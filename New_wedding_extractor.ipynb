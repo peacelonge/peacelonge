{
 "cells": [
  {
   "cell_type": "code",
   "execution_count": 12,
   "id": "62e3f4b8-eb96-45d6-98ab-379e3beddcfe",
   "metadata": {},
   "outputs": [
    {
     "name": "stdout",
     "output_type": "stream",
     "text": [
      "success!\n"
     ]
    }
   ],
   "source": [
    "from bs4 import BeautifulSoup\n",
    "import requests \n",
    "import csv\n",
    "\n",
    "web_to_parse = requests.get(\"https://www.unserehochzeitslocation.de/hochzeitslocation/?search_data%5Bcity%5D=hamburg&search_data%5Bpersons%5D=&search_data%5Bradius%5D=100\")\n",
    "web_parser = BeautifulSoup(web_to_parse.content,'html.parser')\n",
    "#let's get ready to loop through our website and extract the necessary data points \n",
    "#each venue on the website is stored on a card\n",
    "#find all the venue cards using the function \"findAll.\"\n",
    "wedding_venues = web_parser.find_all('div', attrs={'class':'card-body'})\n",
    "#create an empty list to store extracted attributes\n",
    "data = []\n",
    "#next, we loop through each card to call out the venue_names and venue_locations\n",
    "for venue in wedding_venues:\n",
    "    name = venue.find('div', attrs={'class':'center-childs'}).text.strip()\n",
    "    location = venue.find('span', attrs={'class':'box-text'}).text.strip()\n",
    "    data.append([name,location])\n",
    "#next, we store the extracted data to a csv file\n",
    "#first, we open a csv file with te open function\n",
    "file = open('new_wed_loc.csv','w')\n",
    "#write the file to a csv folder\n",
    "csv_copy = csv.writer(file)\n",
    "#then we write rows to the file\n",
    "csv_copy.writerow(['VENUE','LOCATION'])\n",
    "#next, loop the previously extracted data into our csv rows\n",
    "for venue, location in data:\n",
    "    csv_copy.writerow([venue,location])\n",
    "file.close()\n",
    "\n",
    "print('success!')\n"
   ]
  },
  {
   "cell_type": "code",
   "execution_count": null,
   "id": "840b2202-76c6-4e47-92b2-32c5f4be49ec",
   "metadata": {},
   "outputs": [],
   "source": []
  }
 ],
 "metadata": {
  "kernelspec": {
   "display_name": "Python 3 (ipykernel)",
   "language": "python",
   "name": "python3"
  },
  "language_info": {
   "codemirror_mode": {
    "name": "ipython",
    "version": 3
   },
   "file_extension": ".py",
   "mimetype": "text/x-python",
   "name": "python",
   "nbconvert_exporter": "python",
   "pygments_lexer": "ipython3",
   "version": "3.12.3"
  }
 },
 "nbformat": 4,
 "nbformat_minor": 5
}
