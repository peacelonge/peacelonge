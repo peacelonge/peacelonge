{
 "cells": [
  {
   "cell_type": "code",
   "execution_count": 17,
   "id": "4bc37892-0cec-46b4-bb2c-e4fc8ed6af69",
   "metadata": {},
   "outputs": [],
   "source": [
    "from bs4 import BeautifulSoup\n",
    "import requests"
   ]
  },
  {
   "cell_type": "code",
   "execution_count": 18,
   "id": "4f9c6d32-a901-435a-ab42-4f6866872c81",
   "metadata": {},
   "outputs": [
    {
     "name": "stdout",
     "output_type": "stream",
     "text": [
      "“The world as we have created it is a process of our thinking. It cannot be changed without changing our thinking.”-Albert Einstein\n",
      "“It is our choices, Harry, that show what we truly are, far more than our abilities.”-J.K. Rowling\n",
      "“There are only two ways to live your life. One is as though nothing is a miracle. The other is as though everything is a miracle.”-Albert Einstein\n",
      "“The person, be it gentleman or lady, who has not pleasure in a good novel, must be intolerably stupid.”-Jane Austen\n",
      "“Imperfection is beauty, madness is genius and it's better to be absolutely ridiculous than absolutely boring.”-Marilyn Monroe\n",
      "“Try not to become a man of success. Rather become a man of value.”-Albert Einstein\n",
      "“It is better to be hated for what you are than to be loved for what you are not.”-André Gide\n",
      "“I have not failed. I've just found 10,000 ways that won't work.”-Thomas A. Edison\n",
      "“A woman is like a tea bag; you never know how strong it is until it's in hot water.”-Eleanor Roosevelt\n",
      "“A day without sunshine is like, you know, night.”-Steve Martin\n"
     ]
    }
   ],
   "source": [
    "page_to_scrape =  requests.get(\"https://quotes.toscrape.com/\")\n",
    "soup = BeautifulSoup(page_to_scrape.text, \"html.parser\")\n",
    "quotes = soup.findAll(\"span\", attrs={\"class\":\"text\"})\n",
    "authors = soup.findAll(\"small\", attrs={\"class\":\"author\"})\n",
    "#for quote in quotes:print(quote.text)for author in authors:print(author.text)\n",
    "\n",
    "for quote, author in zip (quotes, authors):\n",
    "    print(quote.text + \"-\" + author.text)"
   ]
  },
  {
   "cell_type": "code",
   "execution_count": 19,
   "id": "7d8b2ee7-65a3-4548-b6b0-479209120020",
   "metadata": {},
   "outputs": [
    {
     "name": "stdout",
     "output_type": "stream",
     "text": [
      "“The world as we have created it is a process of our thinking. It cannot be changed without changing our thinking.”-Albert Einstein\n",
      "“It is our choices, Harry, that show what we truly are, far more than our abilities.”-J.K. Rowling\n",
      "“There are only two ways to live your life. One is as though nothing is a miracle. The other is as though everything is a miracle.”-Albert Einstein\n",
      "“The person, be it gentleman or lady, who has not pleasure in a good novel, must be intolerably stupid.”-Jane Austen\n",
      "“Imperfection is beauty, madness is genius and it's better to be absolutely ridiculous than absolutely boring.”-Marilyn Monroe\n",
      "“Try not to become a man of success. Rather become a man of value.”-Albert Einstein\n",
      "“It is better to be hated for what you are than to be loved for what you are not.”-André Gide\n",
      "“I have not failed. I've just found 10,000 ways that won't work.”-Thomas A. Edison\n",
      "“A woman is like a tea bag; you never know how strong it is until it's in hot water.”-Eleanor Roosevelt\n",
      "“A day without sunshine is like, you know, night.”-Steve Martin\n"
     ]
    }
   ],
   "source": [
    "#Let's export scraped data as a CSV file\n",
    "\n",
    "import csv\n",
    "file = open(\"scraped_quotes.csv\", \"w\")\n",
    "writer = csv.writer(file)\n",
    "writer.writerow([\"QUOTES\",\"AUTHORS\"])\n",
    "for quote, author in zip (quotes, authors):\n",
    "    print(quote.text + \"-\" + author.text)\n",
    "    writer.writerow([quote.text, author.text])\n",
    "file.close()"
   ]
  },
  {
   "cell_type": "code",
   "execution_count": 20,
   "id": "c7e40f05-3309-4d02-81e0-dd0f782b8600",
   "metadata": {},
   "outputs": [
    {
     "name": "stdout",
     "output_type": "stream",
     "text": [
      "Requirement already satisfied: pandas in /Library/Frameworks/Python.framework/Versions/3.12/lib/python3.12/site-packages (2.2.2)\n",
      "Requirement already satisfied: numpy>=1.26.0 in /Library/Frameworks/Python.framework/Versions/3.12/lib/python3.12/site-packages (from pandas) (1.26.4)\n",
      "Requirement already satisfied: python-dateutil>=2.8.2 in /Library/Frameworks/Python.framework/Versions/3.12/lib/python3.12/site-packages (from pandas) (2.9.0.post0)\n",
      "Requirement already satisfied: pytz>=2020.1 in /Library/Frameworks/Python.framework/Versions/3.12/lib/python3.12/site-packages (from pandas) (2024.1)\n",
      "Requirement already satisfied: tzdata>=2022.7 in /Library/Frameworks/Python.framework/Versions/3.12/lib/python3.12/site-packages (from pandas) (2024.1)\n",
      "Requirement already satisfied: six>=1.5 in /Library/Frameworks/Python.framework/Versions/3.12/lib/python3.12/site-packages (from python-dateutil>=2.8.2->pandas) (1.16.0)\n"
     ]
    }
   ],
   "source": [
    "# Noticed ‚Äù is added to the beginning and ending of sentences in the QUOTES column. Let's remove it\n",
    "!pip install pandas\n",
    "import pandas as pd"
   ]
  },
  {
   "cell_type": "code",
   "execution_count": 30,
   "id": "85e5cfed-7354-4ec2-82ad-4fc4bbc01a9d",
   "metadata": {},
   "outputs": [
    {
     "name": "stdout",
     "output_type": "stream",
     "text": [
      "                                              QUOTES            AUTHORS\n",
      "0  “The world as we have created it is a process ...    Albert Einstein\n",
      "1  “It is our choices, Harry, that show what we t...       J.K. Rowling\n",
      "2  “There are only two ways to live your life. On...    Albert Einstein\n",
      "3  “The person, be it gentleman or lady, who has ...        Jane Austen\n",
      "4  “Imperfection is beauty, madness is genius and...     Marilyn Monroe\n",
      "5  “Try not to become a man of success. Rather be...    Albert Einstein\n",
      "6  “It is better to be hated for what you are tha...         André Gide\n",
      "7  “I have not failed. I've just found 10,000 way...   Thomas A. Edison\n",
      "8  “A woman is like a tea bag; you never know how...  Eleanor Roosevelt\n",
      "9  “A day without sunshine is like, you know, nig...       Steve Martin\n",
      "                                              QUOTES            AUTHORS\n",
      "0  “The world as we have created it is a process ...    Albert Einstein\n",
      "1  “It is our choices, Harry, that show what we t...       J.K. Rowling\n",
      "2  “There are only two ways to live your life. On...    Albert Einstein\n",
      "3  “The person, be it gentleman or lady, who has ...        Jane Austen\n",
      "4  “Imperfection is beauty, madness is genius and...     Marilyn Monroe\n",
      "5  “Try not to become a man of success. Rather be...    Albert Einstein\n",
      "6  “It is better to be hated for what you are tha...         André Gide\n",
      "7  “I have not failed. I've just found 10,000 way...   Thomas A. Edison\n",
      "8  “A woman is like a tea bag; you never know how...  Eleanor Roosevelt\n",
      "9  “A day without sunshine is like, you know, nig...       Steve Martin\n"
     ]
    }
   ],
   "source": [
    "Table = (\"scraped_quotes.csv\")\n",
    "df = pd.read_csv(Table)\n",
    "print(df)\n",
    "print (pd.DataFrame(df))"
   ]
  },
  {
   "cell_type": "code",
   "execution_count": null,
   "id": "d403cde9-21b3-4f44-bd25-0045ac210713",
   "metadata": {},
   "outputs": [],
   "source": []
  }
 ],
 "metadata": {
  "kernelspec": {
   "display_name": "Python 3 (ipykernel)",
   "language": "python",
   "name": "python3"
  },
  "language_info": {
   "codemirror_mode": {
    "name": "ipython",
    "version": 3
   },
   "file_extension": ".py",
   "mimetype": "text/x-python",
   "name": "python",
   "nbconvert_exporter": "python",
   "pygments_lexer": "ipython3",
   "version": "3.12.3"
  }
 },
 "nbformat": 4,
 "nbformat_minor": 5
}
